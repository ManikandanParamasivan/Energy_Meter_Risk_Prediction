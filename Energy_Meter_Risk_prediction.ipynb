{
 "cells": [
  {
   "cell_type": "markdown",
   "id": "bdcc6f70",
   "metadata": {},
   "source": [
    "# Prediction on Energy Meter using ML "
   ]
  },
  {
   "cell_type": "code",
   "execution_count": 1,
   "id": "df8419ad",
   "metadata": {},
   "outputs": [],
   "source": [
    "import pandas as pd"
   ]
  },
  {
   "cell_type": "markdown",
   "id": "46a7a728",
   "metadata": {},
   "source": [
    "# Loading Dataset"
   ]
  },
  {
   "cell_type": "code",
   "execution_count": 10,
   "id": "45d70bc2",
   "metadata": {},
   "outputs": [
    {
     "data": {
      "text/html": [
       "<div>\n",
       "<style scoped>\n",
       "    .dataframe tbody tr th:only-of-type {\n",
       "        vertical-align: middle;\n",
       "    }\n",
       "\n",
       "    .dataframe tbody tr th {\n",
       "        vertical-align: top;\n",
       "    }\n",
       "\n",
       "    .dataframe thead th {\n",
       "        text-align: right;\n",
       "    }\n",
       "</style>\n",
       "<table border=\"1\" class=\"dataframe\">\n",
       "  <thead>\n",
       "    <tr style=\"text-align: right;\">\n",
       "      <th></th>\n",
       "      <th>Voltage</th>\n",
       "      <th>Current</th>\n",
       "      <th>Power</th>\n",
       "      <th>class</th>\n",
       "    </tr>\n",
       "  </thead>\n",
       "  <tbody>\n",
       "    <tr>\n",
       "      <th>0</th>\n",
       "      <td>0.0000</td>\n",
       "      <td>0.000000</td>\n",
       "      <td>0.000000</td>\n",
       "      <td>NoLoad</td>\n",
       "    </tr>\n",
       "    <tr>\n",
       "      <th>1</th>\n",
       "      <td>0.0000</td>\n",
       "      <td>0.000000</td>\n",
       "      <td>0.000000</td>\n",
       "      <td>NoLoad</td>\n",
       "    </tr>\n",
       "    <tr>\n",
       "      <th>2</th>\n",
       "      <td>0.0000</td>\n",
       "      <td>0.000000</td>\n",
       "      <td>0.000000</td>\n",
       "      <td>NoLoad</td>\n",
       "    </tr>\n",
       "    <tr>\n",
       "      <th>3</th>\n",
       "      <td>0.0000</td>\n",
       "      <td>0.000000</td>\n",
       "      <td>0.000000</td>\n",
       "      <td>NoLoad</td>\n",
       "    </tr>\n",
       "    <tr>\n",
       "      <th>4</th>\n",
       "      <td>0.0000</td>\n",
       "      <td>0.000000</td>\n",
       "      <td>0.000000</td>\n",
       "      <td>NoLoad</td>\n",
       "    </tr>\n",
       "    <tr>\n",
       "      <th>...</th>\n",
       "      <td>...</td>\n",
       "      <td>...</td>\n",
       "      <td>...</td>\n",
       "      <td>...</td>\n",
       "    </tr>\n",
       "    <tr>\n",
       "      <th>395</th>\n",
       "      <td>214.2647</td>\n",
       "      <td>0.847530</td>\n",
       "      <td>181.595761</td>\n",
       "      <td>Risk</td>\n",
       "    </tr>\n",
       "    <tr>\n",
       "      <th>396</th>\n",
       "      <td>214.6480</td>\n",
       "      <td>0.850669</td>\n",
       "      <td>182.594400</td>\n",
       "      <td>Risk</td>\n",
       "    </tr>\n",
       "    <tr>\n",
       "      <th>397</th>\n",
       "      <td>215.0313</td>\n",
       "      <td>0.850669</td>\n",
       "      <td>182.920461</td>\n",
       "      <td>Risk</td>\n",
       "    </tr>\n",
       "    <tr>\n",
       "      <th>398</th>\n",
       "      <td>211.9649</td>\n",
       "      <td>0.850669</td>\n",
       "      <td>180.311970</td>\n",
       "      <td>Risk</td>\n",
       "    </tr>\n",
       "    <tr>\n",
       "      <th>399</th>\n",
       "      <td>215.7979</td>\n",
       "      <td>0.850669</td>\n",
       "      <td>183.572584</td>\n",
       "      <td>Risk</td>\n",
       "    </tr>\n",
       "  </tbody>\n",
       "</table>\n",
       "<p>400 rows × 4 columns</p>\n",
       "</div>"
      ],
      "text/plain": [
       "      Voltage   Current       Power   class\n",
       "0      0.0000  0.000000    0.000000  NoLoad\n",
       "1      0.0000  0.000000    0.000000  NoLoad\n",
       "2      0.0000  0.000000    0.000000  NoLoad\n",
       "3      0.0000  0.000000    0.000000  NoLoad\n",
       "4      0.0000  0.000000    0.000000  NoLoad\n",
       "..        ...       ...         ...     ...\n",
       "395  214.2647  0.847530  181.595761    Risk\n",
       "396  214.6480  0.850669  182.594400    Risk\n",
       "397  215.0313  0.850669  182.920461    Risk\n",
       "398  211.9649  0.850669  180.311970    Risk\n",
       "399  215.7979  0.850669  183.572584    Risk\n",
       "\n",
       "[400 rows x 4 columns]"
      ]
     },
     "execution_count": 10,
     "metadata": {},
     "output_type": "execute_result"
    }
   ],
   "source": [
    "names = ['Voltage','Current','Power','class']\n",
    "data1 = pd.read_csv(\"Energy Meter.csv\",names = names)\n",
    "data1"
   ]
  },
  {
   "cell_type": "markdown",
   "id": "e90b4451",
   "metadata": {},
   "source": [
    "# Summarize Dataset"
   ]
  },
  {
   "cell_type": "code",
   "execution_count": 16,
   "id": "b77cc87d",
   "metadata": {},
   "outputs": [
    {
     "name": "stdout",
     "output_type": "stream",
     "text": [
      "(400, 4)\n",
      "   Voltage  Current  Power   class\n",
      "0      0.0      0.0    0.0  NoLoad\n",
      "1      0.0      0.0    0.0  NoLoad\n",
      "2      0.0      0.0    0.0  NoLoad\n",
      "3      0.0      0.0    0.0  NoLoad\n",
      "4      0.0      0.0    0.0  NoLoad\n",
      "          Voltage     Current       Power\n",
      "count  400.000000  400.000000  400.000000\n",
      "mean   160.657320    0.317734   68.065053\n",
      "std     93.125536    0.320430   68.941682\n",
      "min      0.000000    0.000000    0.000000\n",
      "25%     79.151450    0.076849    0.000000\n",
      "50%    213.114800    0.176985   38.430426\n",
      "75%    215.031300    0.398765  101.438042\n",
      "max    304.340200    1.227349  264.859337\n",
      "class\n",
      "Medium    100\n",
      "NoLoad    100\n",
      "Normal    100\n",
      "Risk      100\n",
      "dtype: int64\n"
     ]
    }
   ],
   "source": [
    "print(data1.shape)\n",
    "print(data1.head(5))\n",
    "print(data1.describe())\n",
    "print(data1.groupby('class').size())"
   ]
  },
  {
   "cell_type": "code",
   "execution_count": 21,
   "id": "2443407e",
   "metadata": {},
   "outputs": [],
   "source": [
    "from pandas.plotting import scatter_matrix\n",
    "from matplotlib import pyplot"
   ]
  },
  {
   "cell_type": "code",
   "execution_count": 22,
   "id": "83e899e5",
   "metadata": {},
   "outputs": [
    {
     "data": {
      "image/png": "[encoded data removed]",
      "text/plain": [
       "<Figure size 432x288 with 4 Axes>"
      ]
     },
     "metadata": {
      "needs_background": "light"
     },
     "output_type": "display_data"
    },
    {
     "data": {
      "image/png": "[encoded data removed]",
      "text/plain": [
       "<Figure size 432x288 with 4 Axes>"
      ]
     },
     "metadata": {
      "needs_background": "light"
     },
     "output_type": "display_data"
    },
    {
     "data": {
      "image/png": "[encoded data removed]",
      "text/plain": [
       "<Figure size 432x288 with 9 Axes>"
      ]
     },
     "metadata": {
      "needs_background": "light"
     },
     "output_type": "display_data"
    }
   ],
   "source": [
    "data1.plot(kind = 'bar',subplots = True,layout = (2,2))\n",
    "pyplot.title('Bar plot')\n",
    "pyplot.show()\n",
    "\n",
    "data1.hist()\n",
    "pyplot.title('Histogram')\n",
    "pyplot.show()\n",
    "\n",
    "scatter_matrix(data1)\n",
    "pyplot.title('Scatter plot')\n",
    "pyplot.show()"
   ]
  },
  {
   "cell_type": "markdown",
   "id": "e21c4e08",
   "metadata": {},
   "source": [
    "# Evaluating various ML Algos"
   ]
  },
  {
   "cell_type": "code",
   "execution_count": 26,
   "id": "0aabf61a",
   "metadata": {},
   "outputs": [],
   "source": [
    "from sklearn.discriminant_analysis import LinearDiscriminantAnalysis\n",
    "from sklearn.linear_model import LogisticRegression\n",
    "from sklearn.tree import DecisionTreeClassifier\n",
    "from sklearn.neighbors import KNeighborsClassifier\n",
    "from sklearn.naive_bayes import GaussianNB\n",
    "from sklearn.svm import SVC\n",
    "\n",
    "from sklearn.model_selection import train_test_split\n",
    "from sklearn.model_selection import cross_val_score\n",
    "from sklearn.model_selection import StratifiedKFold"
   ]
  },
  {
   "cell_type": "code",
   "execution_count": 27,
   "id": "030e7522",
   "metadata": {},
   "outputs": [],
   "source": [
    "array = data1.values\n",
    "x = array[:,0:3]\n",
    "y = array[:,3]\n",
    "x_train,x_validation,y_train,y_validation = train_test_split(x,y,test_size = 0.20,random_state = 1,shuffle = True)"
   ]
  },
  {
   "cell_type": "code",
   "execution_count": 29,
   "id": "08d9aa19",
   "metadata": {},
   "outputs": [],
   "source": [
    "models = []\n",
    "models.append(('LR', LogisticRegression(solver = 'liblinear',multi_class = 'ovr')))\n",
    "models.append(('LDA',LinearDiscriminantAnalysis()))\n",
    "models.append(('KNN',KNeighborsClassifier()))\n",
    "models.append(('CART',DecisionTreeClassifier()))\n",
    "models.append(('NB',GaussianNB()))\n",
    "models.append(('SVM',SVC(gamma = 'auto')))"
   ]
  },
  {
   "cell_type": "markdown",
   "id": "34344a74",
   "metadata": {},
   "source": [
    "# Algo Comparsion"
   ]
  },
  {
   "cell_type": "code",
   "execution_count": 34,
   "id": "789d529a",
   "metadata": {},
   "outputs": [
    {
     "name": "stdout",
     "output_type": "stream",
     "text": [
      "LR: 0.996875 (0.009375)\n",
      "LDA: 0.996875 (0.009375)\n",
      "KNN: 0.993750 (0.018750)\n",
      "CART: 0.993750 (0.018750)\n",
      "NB: 0.990625 (0.020010)\n",
      "SVM: 0.990625 (0.020010)\n"
     ]
    },
    {
     "data": {
      "image/png": "[encoded data removed]",
      "text/plain": [
       "<Figure size 432x288 with 1 Axes>"
      ]
     },
     "metadata": {
      "needs_background": "light"
     },
     "output_type": "display_data"
    }
   ],
   "source": [
    "results = []\n",
    "names = []\n",
    "res = []\n",
    "for name, model in models:\n",
    "    kfold = StratifiedKFold(n_splits = 10,random_state = None)\n",
    "    cv_result = cross_val_score(model,x_train,y_train,cv = kfold,scoring = 'accuracy')\n",
    "    results.append(cv_result)\n",
    "    names.append(name)\n",
    "    res.append(cv_result.mean())\n",
    "    print('%s: %f (%f)' % (name, cv_result.mean(), cv_result.std()))\n",
    "pyplot.ylim(.990, .999)\n",
    "pyplot.bar(names, res, color = 'maroon', width = 0.6)\n",
    "\n",
    "pyplot.title('Algorithm Comparison')\n",
    "pyplot.show()"
   ]
  },
  {
   "cell_type": "markdown",
   "id": "088d0772",
   "metadata": {},
   "source": [
    "# Since most are at 99% accur , using SVC "
   ]
  },
  {
   "cell_type": "code",
   "execution_count": 36,
   "id": "d4567a0f",
   "metadata": {},
   "outputs": [],
   "source": [
    "model = SVC(gamma  = 'auto')\n"
   ]
  },
  {
   "cell_type": "code",
   "execution_count": 37,
   "id": "9e2b9da7",
   "metadata": {},
   "outputs": [
    {
     "data": {
      "text/plain": [
       "SVC(gamma='auto')"
      ]
     },
     "execution_count": 37,
     "metadata": {},
     "output_type": "execute_result"
    }
   ],
   "source": [
    "model.fit(x_train,y_train)"
   ]
  },
  {
   "cell_type": "markdown",
   "id": "5da7b7d1",
   "metadata": {},
   "source": [
    "# Storing the model for future use"
   ]
  },
  {
   "cell_type": "code",
   "execution_count": 38,
   "id": "491e42a7",
   "metadata": {},
   "outputs": [],
   "source": [
    "import pickle\n",
    "file1 = 'model.pkl'\n",
    "pickle.dump(model,open(file1,'wb'))"
   ]
  },
  {
   "cell_type": "code",
   "execution_count": 39,
   "id": "42cc65b5",
   "metadata": {},
   "outputs": [
    {
     "name": "stdout",
     "output_type": "stream",
     "text": [
      "0.9875\n"
     ]
    }
   ],
   "source": [
    "load_model = pickle.load(open(file1,'rb'))\n",
    "result = load_model.score(x_validation,y_validation)\n",
    "print(result)"
   ]
  },
  {
   "cell_type": "markdown",
   "id": "7d4180fe",
   "metadata": {},
   "source": [
    "# Final Prediction "
   ]
  },
  {
   "cell_type": "code",
   "execution_count": 42,
   "id": "511fc980",
   "metadata": {},
   "outputs": [
    {
     "name": "stdout",
     "output_type": "stream",
     "text": [
      "Medium\n"
     ]
    }
   ],
   "source": [
    "value = [[213.8814,0.173,37.18]]\n",
    "predict = model.predict(value)\n",
    "print(predict[0])"
   ]
  },
  {
   "cell_type": "markdown",
   "id": "28751b16",
   "metadata": {},
   "source": [
    "# END OF MODULE"
   ]
  }
 ],
 "metadata": {
  "kernelspec": {
   "display_name": "Python 3 (ipykernel)",
   "language": "python",
   "name": "python3"
  },
  "language_info": {
   "codemirror_mode": {
    "name": "ipython",
    "version": 3
   },
   "file_extension": ".py",
   "mimetype": "text/x-python",
   "name": "python",
   "nbconvert_exporter": "python",
   "pygments_lexer": "ipython3",
   "version": "3.9.7"
  }
 },
 "nbformat": 4,
 "nbformat_minor": 5
}
